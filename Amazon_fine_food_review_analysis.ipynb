{
 "cells": [
  {
   "cell_type": "markdown",
   "metadata": {},
   "source": [
    "# AMAZON FINE FOOD REVIEW ANALYSIS"
   ]
  },
  {
   "cell_type": "markdown",
   "metadata": {},
   "source": [
    "# OBJECTIVE"
   ]
  },
  {
   "cell_type": "markdown",
   "metadata": {},
   "source": [
    "Given a review , determine whether the review is positive or not.\n",
    "  Positive when review rating is 4 or 5.\n",
    "  Negative when review rating is 1 or 3.\n",
    "  And the review rating 3,We consider it as nuetral and in our problem we won't consider that."
   ]
  },
  {
   "cell_type": "markdown",
   "metadata": {},
   "source": [
    "# IMPORTING LIBRARIES"
   ]
  },
  {
   "cell_type": "code",
   "execution_count": 1,
   "metadata": {},
   "outputs": [],
   "source": [
    "import pandas as pd\n",
    "import numpy as np\n",
    "import matplotlib.pyplot as plt\n",
    "import seaborn as sns\n",
    "from sklearn.preprocessing import StandardScaler\n",
    "from sklearn.feature_extraction.text import TfidfTransformer\n",
    "from sklearn.feature_extraction.text import TfidfVectorizer\n",
    "from sklearn.feature_extraction.text import CountVectorizer\n",
    "from sklearn.metrics import confusion_matrix\n",
    "from sklearn import metrics\n",
    "from sklearn.metrics import roc_curve,auc"
   ]
  },
  {
   "cell_type": "code",
   "execution_count": 2,
   "metadata": {},
   "outputs": [
    {
     "data": {
      "text/html": [
       "<div>\n",
       "<style scoped>\n",
       "    .dataframe tbody tr th:only-of-type {\n",
       "        vertical-align: middle;\n",
       "    }\n",
       "\n",
       "    .dataframe tbody tr th {\n",
       "        vertical-align: top;\n",
       "    }\n",
       "\n",
       "    .dataframe thead th {\n",
       "        text-align: right;\n",
       "    }\n",
       "</style>\n",
       "<table border=\"1\" class=\"dataframe\">\n",
       "  <thead>\n",
       "    <tr style=\"text-align: right;\">\n",
       "      <th></th>\n",
       "      <th>Id</th>\n",
       "      <th>ProductId</th>\n",
       "      <th>UserId</th>\n",
       "      <th>ProfileName</th>\n",
       "      <th>HelpfulnessNumerator</th>\n",
       "      <th>HelpfulnessDenominator</th>\n",
       "      <th>Score</th>\n",
       "      <th>Time</th>\n",
       "      <th>Summary</th>\n",
       "      <th>Text</th>\n",
       "    </tr>\n",
       "  </thead>\n",
       "  <tbody>\n",
       "    <tr>\n",
       "      <th>0</th>\n",
       "      <td>1</td>\n",
       "      <td>B001E4KFG0</td>\n",
       "      <td>A3SGXH7AUHU8GW</td>\n",
       "      <td>delmartian</td>\n",
       "      <td>1</td>\n",
       "      <td>1</td>\n",
       "      <td>5</td>\n",
       "      <td>1303862400</td>\n",
       "      <td>Good Quality Dog Food</td>\n",
       "      <td>I have bought several of the Vitality canned d...</td>\n",
       "    </tr>\n",
       "    <tr>\n",
       "      <th>1</th>\n",
       "      <td>2</td>\n",
       "      <td>B00813GRG4</td>\n",
       "      <td>A1D87F6ZCVE5NK</td>\n",
       "      <td>dll pa</td>\n",
       "      <td>0</td>\n",
       "      <td>0</td>\n",
       "      <td>1</td>\n",
       "      <td>1346976000</td>\n",
       "      <td>Not as Advertised</td>\n",
       "      <td>Product arrived labeled as Jumbo Salted Peanut...</td>\n",
       "    </tr>\n",
       "    <tr>\n",
       "      <th>2</th>\n",
       "      <td>3</td>\n",
       "      <td>B000LQOCH0</td>\n",
       "      <td>ABXLMWJIXXAIN</td>\n",
       "      <td>Natalia Corres \"Natalia Corres\"</td>\n",
       "      <td>1</td>\n",
       "      <td>1</td>\n",
       "      <td>4</td>\n",
       "      <td>1219017600</td>\n",
       "      <td>\"Delight\" says it all</td>\n",
       "      <td>This is a confection that has been around a fe...</td>\n",
       "    </tr>\n",
       "    <tr>\n",
       "      <th>3</th>\n",
       "      <td>4</td>\n",
       "      <td>B000UA0QIQ</td>\n",
       "      <td>A395BORC6FGVXV</td>\n",
       "      <td>Karl</td>\n",
       "      <td>3</td>\n",
       "      <td>3</td>\n",
       "      <td>2</td>\n",
       "      <td>1307923200</td>\n",
       "      <td>Cough Medicine</td>\n",
       "      <td>If you are looking for the secret ingredient i...</td>\n",
       "    </tr>\n",
       "    <tr>\n",
       "      <th>4</th>\n",
       "      <td>5</td>\n",
       "      <td>B006K2ZZ7K</td>\n",
       "      <td>A1UQRSCLF8GW1T</td>\n",
       "      <td>Michael D. Bigham \"M. Wassir\"</td>\n",
       "      <td>0</td>\n",
       "      <td>0</td>\n",
       "      <td>5</td>\n",
       "      <td>1350777600</td>\n",
       "      <td>Great taffy</td>\n",
       "      <td>Great taffy at a great price.  There was a wid...</td>\n",
       "    </tr>\n",
       "  </tbody>\n",
       "</table>\n",
       "</div>"
      ],
      "text/plain": [
       "   Id   ProductId          UserId                      ProfileName  \\\n",
       "0   1  B001E4KFG0  A3SGXH7AUHU8GW                       delmartian   \n",
       "1   2  B00813GRG4  A1D87F6ZCVE5NK                           dll pa   \n",
       "2   3  B000LQOCH0   ABXLMWJIXXAIN  Natalia Corres \"Natalia Corres\"   \n",
       "3   4  B000UA0QIQ  A395BORC6FGVXV                             Karl   \n",
       "4   5  B006K2ZZ7K  A1UQRSCLF8GW1T    Michael D. Bigham \"M. Wassir\"   \n",
       "\n",
       "   HelpfulnessNumerator  HelpfulnessDenominator  Score        Time  \\\n",
       "0                     1                       1      5  1303862400   \n",
       "1                     0                       0      1  1346976000   \n",
       "2                     1                       1      4  1219017600   \n",
       "3                     3                       3      2  1307923200   \n",
       "4                     0                       0      5  1350777600   \n",
       "\n",
       "                 Summary                                               Text  \n",
       "0  Good Quality Dog Food  I have bought several of the Vitality canned d...  \n",
       "1      Not as Advertised  Product arrived labeled as Jumbo Salted Peanut...  \n",
       "2  \"Delight\" says it all  This is a confection that has been around a fe...  \n",
       "3         Cough Medicine  If you are looking for the secret ingredient i...  \n",
       "4            Great taffy  Great taffy at a great price.  There was a wid...  "
      ]
     },
     "execution_count": 2,
     "metadata": {},
     "output_type": "execute_result"
    }
   ],
   "source": [
    "data=pd.read_csv(\"C:/Users/tapas/Documents/machine learninng/datasets/amazon fine food reviews/Reviews.csv\")\n",
    "data.head(5)"
   ]
  },
  {
   "cell_type": "code",
   "execution_count": 33,
   "metadata": {
    "scrolled": true
   },
   "outputs": [
    {
     "data": {
      "text/html": [
       "<div>\n",
       "<style scoped>\n",
       "    .dataframe tbody tr th:only-of-type {\n",
       "        vertical-align: middle;\n",
       "    }\n",
       "\n",
       "    .dataframe tbody tr th {\n",
       "        vertical-align: top;\n",
       "    }\n",
       "\n",
       "    .dataframe thead th {\n",
       "        text-align: right;\n",
       "    }\n",
       "</style>\n",
       "<table border=\"1\" class=\"dataframe\">\n",
       "  <thead>\n",
       "    <tr style=\"text-align: right;\">\n",
       "      <th></th>\n",
       "      <th>Id</th>\n",
       "      <th>ProductId</th>\n",
       "      <th>UserId</th>\n",
       "      <th>ProfileName</th>\n",
       "      <th>HelpfulnessNumerator</th>\n",
       "      <th>HelpfulnessDenominator</th>\n",
       "      <th>Score</th>\n",
       "      <th>Time</th>\n",
       "      <th>Summary</th>\n",
       "      <th>Text</th>\n",
       "      <th>Positivity</th>\n",
       "    </tr>\n",
       "  </thead>\n",
       "  <tbody>\n",
       "    <tr>\n",
       "      <th>0</th>\n",
       "      <td>1</td>\n",
       "      <td>B001E4KFG0</td>\n",
       "      <td>A3SGXH7AUHU8GW</td>\n",
       "      <td>delmartian</td>\n",
       "      <td>1</td>\n",
       "      <td>1</td>\n",
       "      <td>5</td>\n",
       "      <td>1303862400</td>\n",
       "      <td>Good Quality Dog Food</td>\n",
       "      <td>I have bought several of the Vitality canned d...</td>\n",
       "      <td>1</td>\n",
       "    </tr>\n",
       "    <tr>\n",
       "      <th>1</th>\n",
       "      <td>2</td>\n",
       "      <td>B00813GRG4</td>\n",
       "      <td>A1D87F6ZCVE5NK</td>\n",
       "      <td>dll pa</td>\n",
       "      <td>0</td>\n",
       "      <td>0</td>\n",
       "      <td>1</td>\n",
       "      <td>1346976000</td>\n",
       "      <td>Not as Advertised</td>\n",
       "      <td>Product arrived labeled as Jumbo Salted Peanut...</td>\n",
       "      <td>0</td>\n",
       "    </tr>\n",
       "    <tr>\n",
       "      <th>2</th>\n",
       "      <td>3</td>\n",
       "      <td>B000LQOCH0</td>\n",
       "      <td>ABXLMWJIXXAIN</td>\n",
       "      <td>Natalia Corres \"Natalia Corres\"</td>\n",
       "      <td>1</td>\n",
       "      <td>1</td>\n",
       "      <td>4</td>\n",
       "      <td>1219017600</td>\n",
       "      <td>\"Delight\" says it all</td>\n",
       "      <td>This is a confection that has been around a fe...</td>\n",
       "      <td>1</td>\n",
       "    </tr>\n",
       "    <tr>\n",
       "      <th>3</th>\n",
       "      <td>4</td>\n",
       "      <td>B000UA0QIQ</td>\n",
       "      <td>A395BORC6FGVXV</td>\n",
       "      <td>Karl</td>\n",
       "      <td>3</td>\n",
       "      <td>3</td>\n",
       "      <td>2</td>\n",
       "      <td>1307923200</td>\n",
       "      <td>Cough Medicine</td>\n",
       "      <td>If you are looking for the secret ingredient i...</td>\n",
       "      <td>0</td>\n",
       "    </tr>\n",
       "    <tr>\n",
       "      <th>4</th>\n",
       "      <td>5</td>\n",
       "      <td>B006K2ZZ7K</td>\n",
       "      <td>A1UQRSCLF8GW1T</td>\n",
       "      <td>Michael D. Bigham \"M. Wassir\"</td>\n",
       "      <td>0</td>\n",
       "      <td>0</td>\n",
       "      <td>5</td>\n",
       "      <td>1350777600</td>\n",
       "      <td>Great taffy</td>\n",
       "      <td>Great taffy at a great price.  There was a wid...</td>\n",
       "      <td>1</td>\n",
       "    </tr>\n",
       "  </tbody>\n",
       "</table>\n",
       "</div>"
      ],
      "text/plain": [
       "   Id   ProductId          UserId                      ProfileName  \\\n",
       "0   1  B001E4KFG0  A3SGXH7AUHU8GW                       delmartian   \n",
       "1   2  B00813GRG4  A1D87F6ZCVE5NK                           dll pa   \n",
       "2   3  B000LQOCH0   ABXLMWJIXXAIN  Natalia Corres \"Natalia Corres\"   \n",
       "3   4  B000UA0QIQ  A395BORC6FGVXV                             Karl   \n",
       "4   5  B006K2ZZ7K  A1UQRSCLF8GW1T    Michael D. Bigham \"M. Wassir\"   \n",
       "\n",
       "   HelpfulnessNumerator  HelpfulnessDenominator  Score        Time  \\\n",
       "0                     1                       1      5  1303862400   \n",
       "1                     0                       0      1  1346976000   \n",
       "2                     1                       1      4  1219017600   \n",
       "3                     3                       3      2  1307923200   \n",
       "4                     0                       0      5  1350777600   \n",
       "\n",
       "                 Summary                                               Text  \\\n",
       "0  Good Quality Dog Food  I have bought several of the Vitality canned d...   \n",
       "1      Not as Advertised  Product arrived labeled as Jumbo Salted Peanut...   \n",
       "2  \"Delight\" says it all  This is a confection that has been around a fe...   \n",
       "3         Cough Medicine  If you are looking for the secret ingredient i...   \n",
       "4            Great taffy  Great taffy at a great price.  There was a wid...   \n",
       "\n",
       "   Positivity  \n",
       "0           1  \n",
       "1           0  \n",
       "2           1  \n",
       "3           0  \n",
       "4           1  "
      ]
     },
     "execution_count": 33,
     "metadata": {},
     "output_type": "execute_result"
    }
   ],
   "source": [
    "data.dropna(inplace=True)\n",
    "data[data['Score'] != 3]\n",
    "data['Positivity'] = np.where(data['Score'] > 3, 1, 0)\n",
    "data.head(5)"
   ]
  },
  {
   "cell_type": "code",
   "execution_count": null,
   "metadata": {},
   "outputs": [],
   "source": [
    "data"
   ]
  },
  {
   "cell_type": "code",
   "execution_count": 106,
   "metadata": {},
   "outputs": [
    {
     "data": {
      "image/png": "[encoded data removed]",
      "text/plain": [
       "<Figure size 432x288 with 1 Axes>"
      ]
     },
     "metadata": {
      "needs_background": "light"
     },
     "output_type": "display_data"
    }
   ],
   "source": [
    "sns.countplot(data['Score']) \n",
    "plt.show()"
   ]
  },
  {
   "cell_type": "code",
   "execution_count": 108,
   "metadata": {},
   "outputs": [
    {
     "data": {
      "image/png": "[encoded data removed]",
      "text/plain": [
       "<Figure size 432x288 with 1 Axes>"
      ]
     },
     "metadata": {
      "needs_background": "light"
     },
     "output_type": "display_data"
    }
   ],
   "source": [
    "sns.countplot(data['Positivity']) \n",
    "plt.show()"
   ]
  },
  {
   "cell_type": "markdown",
   "metadata": {},
   "source": [
    "# TSNE with bag of words"
   ]
  },
  {
   "cell_type": "code",
   "execution_count": 109,
   "metadata": {},
   "outputs": [],
   "source": [
    "positive_points = data[data['Positivity'] == 1].sample(n=3000)\n",
    "negative_points = data[data['Positivity'] == 0].sample(n=3000)\n",
    "total_points = pd.concat([positive_points, negative_points])"
   ]
  },
  {
   "cell_type": "code",
   "execution_count": 110,
   "metadata": {},
   "outputs": [],
   "source": [
    "from sklearn.preprocessing import StandardScaler"
   ]
  },
  {
   "cell_type": "code",
   "execution_count": 111,
   "metadata": {},
   "outputs": [],
   "source": [
    "vect=CountVectorizer()\n",
    "std_scaler = StandardScaler(with_mean=False)"
   ]
  },
  {
   "cell_type": "code",
   "execution_count": 112,
   "metadata": {},
   "outputs": [],
   "source": [
    "sample_points = total_points['Text']"
   ]
  },
  {
   "cell_type": "code",
   "execution_count": 113,
   "metadata": {},
   "outputs": [],
   "source": [
    "sample_points = count_vect.fit_transform(sample_points)\n",
    "sample_points = std_scaler.fit_transform(sample_points)\n",
    "sample_points = sample_points.todense()"
   ]
  },
  {
   "cell_type": "code",
   "execution_count": 115,
   "metadata": {},
   "outputs": [],
   "source": [
    "labels = total_points['Positivity']"
   ]
  },
  {
   "cell_type": "code",
   "execution_count": 116,
   "metadata": {},
   "outputs": [
    {
     "name": "stdout",
     "output_type": "stream",
     "text": [
      "(6000, 16384) (6000,)\n"
     ]
    }
   ],
   "source": [
    "print(sample_points.shape, labels.shape)"
   ]
  },
  {
   "cell_type": "code",
   "execution_count": 118,
   "metadata": {},
   "outputs": [
    {
     "name": "stderr",
     "output_type": "stream",
     "text": [
      "c:\\users\\tapas\\appdata\\local\\programs\\python\\python37\\lib\\site-packages\\seaborn\\axisgrid.py:243: UserWarning: The `size` parameter has been renamed to `height`; please update your code.\n",
      "  warnings.warn(msg, UserWarning)\n"
     ]
    },
    {
     "data": {
      "image/png": "[encoded data removed]",
      "text/plain": [
       "<Figure size 411.875x360 with 1 Axes>"
      ]
     },
     "metadata": {
      "needs_background": "light"
     },
     "output_type": "display_data"
    }
   ],
   "source": [
    "from sklearn.manifold import TSNE\n",
    "\n",
    "tsne_data = sample_points\n",
    "tsne_labels = labels\n",
    "\n",
    "# Initializing with most explained variance\n",
    "model = TSNE(n_components=2, random_state=15)\n",
    "\n",
    "# Fitting model\n",
    "tsne_data = model.fit_transform(tsne_data)\n",
    "\n",
    "# Adding labels to the data point\n",
    "tsne_data = np.vstack((tsne_data.T, tsne_labels)).T\n",
    "\n",
    "# Creating data frame\n",
    "tsne_df = pd.DataFrame(data=tsne_data, columns=('Dim_1', 'Dim_2', 'label'))\n",
    "\n",
    "# Plotting graph for class labels\n",
    "sns.FacetGrid(tsne_df, hue='label', size=5).map(plt.scatter, 'Dim_1', 'Dim_2').add_legend()\n",
    "plt.title(\"TSNE with default parameters\")\n",
    "plt.xlabel(\"Dim_1\")\n",
    "plt.ylabel(\"Dim_2\")\n",
    "plt.show()"
   ]
  },
  {
   "cell_type": "markdown",
   "metadata": {},
   "source": [
    "# TSNE WITH TFIDF"
   ]
  },
  {
   "cell_type": "code",
   "execution_count": 122,
   "metadata": {},
   "outputs": [],
   "source": [
    "vect_1=TfidfVectorizer()\n",
    "std_scaler_1 = StandardScaler(with_mean=False)"
   ]
  },
  {
   "cell_type": "code",
   "execution_count": 123,
   "metadata": {},
   "outputs": [],
   "source": [
    "sample_points_1 = total_points['Text']"
   ]
  },
  {
   "cell_type": "code",
   "execution_count": 125,
   "metadata": {},
   "outputs": [],
   "source": [
    "sample_points_1 = vect_1.fit_transform(sample_points_1)\n",
    "sample_points_1 = std_scaler_1.fit_transform(sample_points_1)\n",
    "sample_points_1 = sample_points_1.todense()"
   ]
  },
  {
   "cell_type": "code",
   "execution_count": 126,
   "metadata": {},
   "outputs": [],
   "source": [
    "labels = total_points['Positivity']"
   ]
  },
  {
   "cell_type": "code",
   "execution_count": 127,
   "metadata": {},
   "outputs": [
    {
     "name": "stderr",
     "output_type": "stream",
     "text": [
      "c:\\users\\tapas\\appdata\\local\\programs\\python\\python37\\lib\\site-packages\\seaborn\\axisgrid.py:243: UserWarning: The `size` parameter has been renamed to `height`; please update your code.\n",
      "  warnings.warn(msg, UserWarning)\n",
      "c:\\users\\tapas\\appdata\\local\\programs\\python\\python37\\lib\\site-packages\\seaborn\\axisgrid.py:98: UserWarning: You have mixed positional and keyword arguments, some input may be discarded.\n",
      "  figlegend = self.fig.legend(handles, labels, **kwargs)\n"
     ]
    },
    {
     "data": {
      "image/png": "[encoded data removed]",
      "text/plain": [
       "<Figure size 413.25x360 with 1 Axes>"
      ]
     },
     "metadata": {
      "needs_background": "light"
     },
     "output_type": "display_data"
    }
   ],
   "source": [
    "from sklearn.manifold import TSNE\n",
    "\n",
    "tsne_data_1 = sample_points_1\n",
    "tsne_labels = labels\n",
    "\n",
    "# Initializing with most explained variance\n",
    "model = TSNE(n_components=2, random_state=15)\n",
    "\n",
    "# Fitting model\n",
    "tsne_data_1 = model.fit_transform(tsne_data_1)\n",
    "\n",
    "# Adding labels to the data point\n",
    "tsne_data_1 = np.vstack((tsne_data_1.T, tsne_labels)).T\n",
    "\n",
    "# Creating data frame\n",
    "tsne_df = pd.DataFrame(data=tsne_data_1, columns=('Dim_1', 'Dim_2', 'label'))\n",
    "\n",
    "# Plotting graph for class labels\n",
    "sns.FacetGrid(tsne_df, hue='label', size=5).map(plt.scatter, 'Dim_1', 'Dim_2').add_legend(labels=['yes','no'])\n",
    "plt.title(\"TSNE with default parameters\")\n",
    "plt.xlabel(\"Dim_1\")\n",
    "plt.ylabel(\"Dim_2\")\n",
    "plt.show()"
   ]
  },
  {
   "cell_type": "code",
   "execution_count": null,
   "metadata": {},
   "outputs": [],
   "source": []
  },
  {
   "cell_type": "code",
   "execution_count": null,
   "metadata": {},
   "outputs": [],
   "source": []
  },
  {
   "cell_type": "code",
   "execution_count": null,
   "metadata": {},
   "outputs": [],
   "source": []
  },
  {
   "cell_type": "code",
   "execution_count": 34,
   "metadata": {},
   "outputs": [
    {
     "data": {
      "text/plain": [
       "(454728,)"
      ]
     },
     "execution_count": 34,
     "metadata": {},
     "output_type": "execute_result"
    }
   ],
   "source": [
    "from sklearn.model_selection import train_test_split\n",
    "X_train, X_test, Y_train, Y_test = train_test_split(data['Text'], data['Positivity'],test_size=0.20, random_state = 42)\n",
    "X_train.shape"
   ]
  },
  {
   "cell_type": "markdown",
   "metadata": {},
   "source": [
    "# BAG OF WORDS"
   ]
  },
  {
   "cell_type": "code",
   "execution_count": 46,
   "metadata": {},
   "outputs": [
    {
     "data": {
      "text/plain": [
       "(454728, 109196)"
      ]
     },
     "execution_count": 46,
     "metadata": {},
     "output_type": "execute_result"
    }
   ],
   "source": [
    "count_vect = CountVectorizer()\n",
    "final_counts=count_vect.fit_transform(X_train)\n",
    "final_counts.shape"
   ]
  },
  {
   "cell_type": "code",
   "execution_count": 54,
   "metadata": {},
   "outputs": [
    {
     "data": {
      "text/plain": [
       "109196"
      ]
     },
     "execution_count": 54,
     "metadata": {},
     "output_type": "execute_result"
    }
   ],
   "source": [
    "len(count_vect.get_feature_names())"
   ]
  },
  {
   "cell_type": "code",
   "execution_count": 36,
   "metadata": {},
   "outputs": [
    {
     "data": {
      "text/plain": [
       "<454728x109196 sparse matrix of type '<class 'numpy.int64'>'\n",
       "\twith 24521521 stored elements in Compressed Sparse Row format>"
      ]
     },
     "execution_count": 36,
     "metadata": {},
     "output_type": "execute_result"
    }
   ],
   "source": [
    "X_train_vectorized = count_vect.transform(X_train)\n",
    "X_train_vectorized"
   ]
  },
  {
   "cell_type": "code",
   "execution_count": 37,
   "metadata": {
    "scrolled": true
   },
   "outputs": [
    {
     "name": "stdout",
     "output_type": "stream",
     "text": [
      "['00', '240', '774', 'aerate', 'andyson', 'atora', 'b000gevgxa', 'b001epqebe', 'b00423uvbo', 'barside', 'bladderworts', 'bronzy', 'car', 'chese', 'coconutish', 'contrary', 'cumarin', 'demonstrators', 'dispirito', 'earthship', 'equilivent', 'falls', 'fluctuated', 'gack', 'gooping', 'handiling', 'homeschooling', 'inasmch', 'ishopindian', 'key', 'legend', 'lupus', 'mccabe', 'mitad', 'nagel', 'nurses', 'oscars', 'patsys', 'pinzimonio', 'prell', 'pyjamas', 'redneck', 'rg', 'sandwhiches', 'servered', 'slathers', 'speedwalking', 'streched', 'swisa', 'themselves', 'transparent', 'undrunk', 'verarity', 'werenot', 'xylan']\n"
     ]
    },
    {
     "data": {
      "text/plain": [
       "109196"
      ]
     },
     "execution_count": 37,
     "metadata": {},
     "output_type": "execute_result"
    }
   ],
   "source": [
    "print(count_vect.get_feature_names()[::2000])\n",
    "len(count_vect.get_feature_names())"
   ]
  },
  {
   "cell_type": "code",
   "execution_count": 44,
   "metadata": {},
   "outputs": [
    {
     "name": "stderr",
     "output_type": "stream",
     "text": [
      "c:\\users\\tapas\\appdata\\local\\programs\\python\\python37\\lib\\site-packages\\sklearn\\linear_model\\_logistic.py:940: ConvergenceWarning: lbfgs failed to converge (status=1):\n",
      "STOP: TOTAL NO. of ITERATIONS REACHED LIMIT.\n",
      "\n",
      "Increase the number of iterations (max_iter) or scale the data as shown in:\n",
      "    https://scikit-learn.org/stable/modules/preprocessing.html\n",
      "Please also refer to the documentation for alternative solver options:\n",
      "    https://scikit-learn.org/stable/modules/linear_model.html#logistic-regression\n",
      "  extra_warning_msg=_LOGISTIC_SOLVER_CONVERGENCE_MSG)\n"
     ]
    },
    {
     "data": {
      "text/plain": [
       "LogisticRegression(C=1.0, class_weight=None, dual=False, fit_intercept=True,\n",
       "                   intercept_scaling=1, l1_ratio=None, max_iter=100,\n",
       "                   multi_class='auto', n_jobs=None, penalty='l2',\n",
       "                   random_state=None, solver='lbfgs', tol=0.0001, verbose=0,\n",
       "                   warm_start=False)"
      ]
     },
     "execution_count": 44,
     "metadata": {},
     "output_type": "execute_result"
    }
   ],
   "source": [
    "from sklearn.linear_model import LogisticRegression\n",
    "model = LogisticRegression()\n",
    "model.fit(X_train_vectorized, Y_train)"
   ]
  },
  {
   "cell_type": "code",
   "execution_count": 45,
   "metadata": {},
   "outputs": [
    {
     "name": "stdout",
     "output_type": "stream",
     "text": [
      "AUC:  0.819587797615879\n"
     ]
    }
   ],
   "source": [
    "from sklearn.metrics import roc_auc_score\n",
    "predictions = model.predict(count_vect.transform(X_test))\n",
    "print('AUC: ', roc_auc_score(Y_test, predictions))"
   ]
  },
  {
   "cell_type": "markdown",
   "metadata": {},
   "source": [
    "# BIGRAM"
   ]
  },
  {
   "cell_type": "code",
   "execution_count": 57,
   "metadata": {},
   "outputs": [],
   "source": [
    "count_vect_1 = CountVectorizer(ngram_range=(1,2))\n",
    "final_counts_1=count_vect_1.fit_transform(X_train)"
   ]
  },
  {
   "cell_type": "code",
   "execution_count": 58,
   "metadata": {},
   "outputs": [
    {
     "data": {
      "text/plain": [
       "(454728, 2741566)"
      ]
     },
     "execution_count": 58,
     "metadata": {},
     "output_type": "execute_result"
    }
   ],
   "source": [
    "final_counts_1.shape"
   ]
  },
  {
   "cell_type": "code",
   "execution_count": 59,
   "metadata": {},
   "outputs": [
    {
     "data": {
      "text/plain": [
       "2741566"
      ]
     },
     "execution_count": 59,
     "metadata": {},
     "output_type": "execute_result"
    }
   ],
   "source": [
    "len(count_vect_1.get_feature_names())"
   ]
  },
  {
   "cell_type": "code",
   "execution_count": 61,
   "metadata": {},
   "outputs": [
    {
     "name": "stdout",
     "output_type": "stream",
     "text": [
      "['00', '09 year', '100 out', '11 year', '125 pound', '149 49', '160lb', '18oz bag', '1st carried', '200mg now', '22 cases', '25 paying', '2g more', '30mins when', '360 iron', '40 reduced', '48 packages', '5000 my', '5months', '686377 so', '76 now', '87 moles', '97 20', 'abbondanza rather', 'about duplicates', 'about subscription', 'absolutely low', 'acceptable have', 'accurate placed', 'acidity mellow', 'active day', 'actually couple', 'ad instructed', 'add triple', 'addicted these', 'additional cherry', 'adequate fix', 'adore receiving', 'advertised over', 'affected that', 'after cant', 'after vaccinations', 'again bravo', 'agave igor', 'ago know', 'aide indicator', 'aka salt', 'ale gingerbread', 'all available', 'all measures', 'allegedly adds', 'allowed junk', 'almost cracker', 'alone try', 'alround the', 'also mighty', 'alternate healthy', 'altogether create', 'always pushing', 'am impulse', 'amazing apple', 'amazon enthusiasm', 'ambivalent', 'among any', 'an addicted', 'an irrational', 'and 200g', 'and bittersweetness', 'and confused', 'and effortlessly', 'and goodness', 'and kernals', 'and nasa', 'and pretzels', 'and sd', 'and supported', 'and vietnamese', 'animal and', 'another 42', 'another yuck', 'antiseizure medicine', 'any foods', 'any subtle', 'anyplace they', 'anyways friendly', 'apparently including', 'apple balsamic', 'appointments family', 'apricot jams', 'are back', 'are fried', 'are pike', 'are unbelievably', 'aren tea', 'aromas however', 'arrays of', 'arthritic bummer', 'as answer', 'as everybody', 'as mostly', 'as soy', 'asian beans', 'asphyxiation br', 'assuring the', 'at extremely', 'at tenochitlan', 'attack because', 'august report', 'automatics capresso', 'average pack', 'awake most', 'awesome natural', 'aztecs remember', 'b000eoneu0', 'b000nmhyh2 original', 'b001bcvy8i petite', 'b001pi32ba ajmera', 'b003d4f1qs', 'b004w8lt10 gold', 'babies fenugreek', 'back get', 'bacon well', 'badly', 'bag whew', 'bai often', 'baking ever', 'baller', 'bandages twice', 'barbara kafka', 'barley almost', 'bascket', 'basically could', 'basted american', 'bawss', 'be cause', 'be information', 'be secretly', 'beagle wouldn', 'beans thai', 'beautiful bought', 'because cooked', 'become potable', 'beef curries', 'been feed', 'been tested', 'before explain', 'beginning fed', 'being generated', 'belgium you', 'below did', 'bent am', 'besides as', 'best looking', 'better among', 'better twist', 'beverage plant', 'bids', 'bigelow after', 'biloxi ms', 'biscotti as', 'bit guess', 'bits be', 'bizzarely packaged', 'blah sort', 'blend 1lb', 'blenheims', 'bloodwork and', 'blueberries very', 'bodied delicious', 'boiling produces', 'bone uneaten', 'books go', 'born had', 'both pamela', 'bottle re', 'bouchon', 'bouillon was', 'bowls tucked', 'boxador boxer', 'boys aren', 'br british', 'br excuse', 'br licorice', 'br purchasing', 'br tlflp', 'bran for', 'brand toaster', 'brazillian', 'break quickly', 'breastfeed', 'brew gets', 'brews loose', 'bring person', 'broil or', 'brothers rehearsal', 'browser amazon', 'bubbly zesty', 'bueller', 'bulk being', 'bunch knowing', 'burning cook', 'bust in', 'but disintegrated', 'but overlooked', 'but wild', 'buttered salted', 'buy fiji', 'buying blue', 'by apure', 'by loss', 'by what', 'caf this', 'cafix or', 'cal yummy', 'called carlin', 'caloires per', 'cals pack', 'can barley', 'can screw', 'candies buy', 'cane eggs', 'cannister nearby', 'cap side', 'captions', 'carb nutrition', 'carcass parts', 'carefully introduce', 'carpet had', 'carrying matters', 'casei fermentation', 'cat buster', 'catchup the', 'cattle 250', 'cautious moderation', 'celiac alike', 'centuries in', 'ceremonies of', 'ceylon taste', 'challenging yes', 'changing packages', 'charly', 'cheaper did', 'cheddar if', 'cheese sprinkle', 'chemical industrial', 'cherry shot', 'chewiness however', 'chia in', 'chickpeas was', 'children was', 'china interestingly', 'chips chunks', 'chocobanana vibe', 'chocolate pu', 'choice certainly', 'choochoo was', 'choy please', 'chunks style', 'cinnamon bitter', 'citrus no', 'class incredible', 'clean ready', 'clearance condition', 'clinique all', 'cloth for', 'clustered sounds', 'coating its', 'cocoa pocky', 'coffe people', 'coffee note', 'coffees on', 'cold february', 'collie lady', 'colored watery', 'com up', 'come whether', 'commerce business', 'compalints yet', 'companys fig', 'competitive on', 'completely desperate', 'component than', 'concentrate yes', 'condensed 15', 'confection with', 'conoisseur of', 'considered proprietary', 'constant demands', 'consumer ill', 'contain phvo', 'containing grains', 'content carbs', 'contrast between', 'convenient tins', 'cook wait', 'cookie simply', 'cooking omelet', 'coop paid', 'corn stuffed', 'corresponded to', 'costly had', 'could seriously', 'counterparts unfortunately', 'course all', 'covered let', 'cracker expected', 'cranberries beta', 'craving killer', 'cream search', 'creases of', 'creepy basement', 'crispbread for', 'crooning', 'crumbly within', 'crunchy puffs', 'crystals back', 'culprit here', 'cup requires', 'cups raw', 'current weather', 'customers christmas', 'cw not', 'daily eversince', 'damaging our', 'dark castle', 'date disappointed', 'davandrew', 'day sampled', 'de foaming', 'death to', 'decafinated just', 'deciding these', 'deep skin', 'definite coconut', 'deflavorized', 'deli restaurant', 'delicious none', 'delightful strawberry', 'delivery sparse', 'dental devices', 'depressed about', 'descriptions lead', 'desolate place', 'details also', 'development dr', 'diabetic store', 'did 100', 'didn react', 'diet realized', 'different backgrounds', 'differentiates', 'digits total', 'dinner feeding', 'direct rivals', 'disappeared oh', 'disc problems', 'discover them', 'disguise will', 'disintegrated sawdust', 'disposakup from', 'distinct neopolitan', 'dividers but', 'do shared', 'does occasionally', 'dog brick', 'dogfood well', 'dogs yorkie', 'domination when', 'done not', 'dopamine is', 'dough does', 'down unless', 'drain perfectly', 'dream guess', 'dried purple', 'drink save', 'drinking needs', 'driver for', 'drug kick', 'dryish solid', 'dumplings split', 'duster', 'each espresso', 'early 90', 'easiest best', 'easy feed', 'eat pig', 'eaters of', 'eating variety', 'ecstasy to', 'educational but', 'effortful', 'eight baskets', 'el br', 'eliminate dry', 'elvish competition', 'emmenagogues stomachics', 'encounter once', 'endurance limits', 'england because', 'enjoy macademia', 'enjoying snack', 'enough stem', 'entire diets', 'enzyme active', 'erbe di', 'especially highly', 'essential vitamins', 'etcetera', 'even 800', 'even only', 'evenly but', 'ever works', 'everyday matcha', 'everywhere anymore', 'exactly inches', 'excellent hummus', 'exceptionally stale', 'exercise couldn', 'expect fabulous', 'expecting taste', 'experiece of', 'expiration definitely', 'expresso starbucks', 'extra six', 'extremely effective', 'fabulous hope', 'factor bought', 'fair serving', 'falls roughly', 'famous english', 'fantastic pay', 'farmers fields', 'fast use', 'father daughter', 'favorably against', 'favorite sunday', 'feast popped', 'feedback many', 'feeling happy', 'felt powdery', 'festive swizzle', 'few summers', 'field chewy', 'filet on', 'filling totally', 'finally mom', 'find nuritional', 'fine cant', 'fingers tried', 'firm buttery', 'first placing', 'fishing themed', 'fixedly at', 'flap jack', 'flavor coated', 'flavor slated', 'flavored trident', 'flavors anyway', 'flavours without', 'flipping through', 'flour he', 'fluctuate pretty', 'focus here', 'follower br', 'food energy', 'food toys', 'foody of', 'for brazil', 'for exams', 'for loved', 'for red', 'for trixie', 'forget aspartame', 'forms recommend', 'forumla mistake', 'found sauce', 'fpo ap', 'frappacino at', 'free lately', 'freezes that', 'fresh expiration', 'freshness grew', 'friendly as', 'frittata before', 'from count', 'from leg', 'from setting', 'frontier seasoning', 'frugal is', 'fruits prune', 'fudgy brownie', 'fullscreen', 'funky think', 'fussy hubby', 'gains made', 'garbanzos mushrooms', 'gas pains', 'gee do', 'generally inhale', 'gentleman asked', 'gesture considering', 'get medley', 'gets freezer', 'getting spooked', 'giadinera does', 'ginger apple', 'girlfriend she', 'given very', 'glass mixed', 'glucomannan water', 'gm blueberry', 'go tipsy', 'going purchase', 'gone sooner', 'good free', 'good smart', 'gooey butter', 'got aspartame', 'gotten b12', 'grab kind', 'grain formula', 'grand miel', 'granola type', 'grass wish', 'greasy oily', 'great it', 'great wedding', 'green pink', 'grey stash', 'grinds each', 'grocery we', 'groundwater isn', 'grub', 'guessing but', 'gum major', 'gurgles and', 'habanero hot', 'had eaten', 'had raisin', 'hahaha', 'half feral', 'hamburger helper', 'handle our', 'happen save', 'happy wouldn', 'hardly gets', 'harvest when', 'has foul', 'has snack', 'hate stinky', 'have choline', 'have insensitivities', 'have rosecea', 'haven it', 'having wrestled', 'he complained', 'head spinning', 'health usually', 'healthy in', 'heart specially', 'heated my', 'heavy research', 'help clean', 'helps repair', 'her generic', 'herb bags', 'here shame', 'hey fruit', 'high long', 'hike we', 'himilayan', 'his feed', 'history to', 'hold true', 'holy barf', 'homemade my', 'honey everywhere', 'hoover alabama', 'horrible attitude', 'hostess brand', 'hots flavor', 'house fire', 'how exotic', 'however popular', 'huge keurig', 'humming sound', 'hurt have', 'hydration through', 'ice both', 'idea really', 'if expecting', 'igourment com', 'imagination picture', 'immediately stop', 'important than', 'improved very', 'in bulb', 'in fighting', 'in matzoh', 'in riyadh', 'in varied', 'include bowel', 'including holistic', 'increases if', 'index card', 'individual shreds', 'inevitable ewww', 'influenster', 'ingredediance', 'ingredients strive', 'inner and', 'inside oh', 'instant yearning', 'insulin again', 'intenso try', 'internet next', 'into intermediate', 'intriging', 'involved no', 'irritable bowel', 'is cancel', 'is failure', 'is lingering', 'is quiet', 'is terrrible', 'isle not', 'issue beware', 'it brewed', 'it filtered', 'it moment', 'it shrunk', 'it wrapper', 'item meets', 'its espresso', 'its warmth', 'jager', 'japanese container', 'jaunie', 'jerkey as', 'jitters great', 'joins me', 'judging this', 'juicy fruity', 'just advertisement', 'just intrigued', 'just surface', 'kansai', 'keep block', 'keifir boxed', 'ketchup before', 'kibble put', 'kids devouring', 'kind its', 'kit 11', 'kitties off', 'knockouts', 'known pretty', 'kos this', 'kunati', 'labeled drip', 'lactoperoxidase', 'landing on', 'large olde', 'lasagna resulting', 'late 1960', 'latte since', 'laws as', 'lbs puppies', 'leaky molasses', 'least totally', 'lebkuchen ever', 'legalities consequences', 'lemons dipped', 'less goo', 'lethality this', 'libido can', 'liekt hem', 'light be', 'lightly vanilla', 'like covered', 'like klein', 'like ribs', 'like xd', 'likewise hard', 'limoncello', 'lingonberries jam', 'liquid have', 'listed supplements', 'litter acting', 'little ethnic', 'little rough', 'lived their', 'llc it', 'local next', 'logo of', 'long sorry', 'look just', 'looooooooooooooong', 'loss tends', 'louisiana fil', 'love minty', 'loved unpacking', 'loves nylabones', 'lowered resistance', 'lug in', 'lurks within', 'macaroons have', 'made bangers', 'madeleine', 'mail everyone', 'maintenance br', 'make healing', 'maker lastly', 'maki zushi', 'male would', 'man missed', 'manifested most', 'manuka mf16', 'many sexual', 'margin in', 'market narrowed', 'marsala chicken', 'masala bhindi', 'matcha combo', 'matting one', 'maybe certainly', 'mccormick as', 'me faithful', 'me table', 'meals there', 'meanwhile have', 'meatiness easy', 'medicine recommended', 'megafudge expecting', 'melted while', 'menthe to', 'merely having', 'met aren', 'mexican night', 'microwave 600', 'might go', 'milder which', 'milk such', 'milquetoast', 'mine raved', 'minimum 32', 'minty scent', 'miracles here', 'missed pizza', 'mix clay', 'mixed varietal', 'mmmmm mmmmmm', 'moderation ie', 'mojito drinkers', 'mom lsat', 'money tree', 'month yellow', 'more appalling', 'more hazelnutty', 'more should', 'morning id', 'most bottles', 'most sprinkles', 'mother tells', 'mouth burned', 'movies 00', 'much body', 'much stiffer', 'mug while', 'mundane caffe', 'must adjust', 'my ad', 'my dark', 'my hypogycemic', 'my persons', 'my suprised', 'myself many', 'name 70', 'narly put', 'natural decaf', 'nature', 'nearby studying', 'nectar however', 'needed medication', 'negro', 'nespresso with', 'never forgetting', 'new has', 'newman my', 'nibbled little', 'nice salad', 'night bravo', 'nitrites etc', 'no floaters', 'no saccharine', 'nom oreos', 'nonstick pans', 'nor some', 'normally prefer', 'not beating', 'not flood', 'not paper', 'not threw', 'nothing appeared', 'noticed striking', 'now drag', 'nowhere food', 'numi or', 'nutramigen formula', 'nutritious by', 'nw wisconsin', 'oatmeals br', 'obtain item', 'occasionally passing', 'oddity is', 'of audio', 'of coffeelosing', 'of exactly', 'of hose', 'of melon', 'of pnut', 'of shocks', 'of tresemme', 'off flavored', 'offered from', 'offs', 'oil adjust', 'oils cocoa', 'okay would', 'old normally', 'olive bins', 'on artemis', 'on greenie', 'on received', 'once closed', 'one eeewww', 'one serving', 'onigiri br', 'only approximately', 'only noodles', 'ony other', 'opened thought', 'oppposed', 'or bedroom', 'or duck', 'or las', 'or quickie', 'or tolls', 'oranges seemed', 'ordered 1lb', 'ordering where', 'organic chilli', 'organisc', 'original sen', 'ostensibly book', 'other fudge', 'other saffron', 'others used', 'ounces taste', 'our log', 'out accidentally', 'out scoop', 'outrageous who', 'over 2weeks', 'over till', 'overfull ashtray', 'override taste', 'own cacao', 'own writing', 'oz mini', 'pack rate', 'packaged fajita', 'packaging vs', 'packing slip', 'pain jed', 'palette has', 'pancakes peach', 'paper especially', 'parents may', 'partial vegetarian', 'partner is', 'past during', 'paste quite', 'patients in', 'paying times', 'peaing just', 'peas dont', 'peeper', 'people boil', 'pepper nearly', 'pepsi ginger', 'perfect dairy', 'perfectly unlike', 'perishable goods', 'personal curiosity', 'pet friendly', 'pffft br', 'phosphorus and', 'pickle than', 'pie her', 'piglets', 'pineapple combine', 'pit mix', 'place fun', 'plain special', 'planters etc', 'plate rattles', 'please 10', 'plow driver', 'pluto broke', 'pods too', 'policy still', 'poo dog', 'pop cooking', 'popped they', 'pork as', 'positive experiences', 'postage from', 'potato protein', 'pouch is', 'poupon that', 'powdered baking', 'practicable', 'precise br', 'preferably overnight', 'premium frozen', 'preparing sweets', 'preserved offerings', 'pretty dessert', 'preventative measures', 'price kid', 'prices when', 'prince makes', 'probably gotten', 'problematic lot', 'processing cost', 'producing sickly', 'product b000hpbr8w', 'product b001gq3e28', 'product b004h4p5uk', 'product imported', 'production has', 'professionaly wrapped', 'promised on', 'proper descriptions', 'protective lid', 'provenance', 'pruners bamboo', 'pudgier this', 'pump after', 'puny in', 'purchase kikkoman', 'purchases never', 'pureeing process', 'purse overnight', 'putting also', 'quality admire', 'quantifiable benefits', 'question shall', 'quickly gets', 'quite customer', 'raccons', 'raised or', 'ranch seems', 'rare marriage', 'rated sojos', 'rats the', 'rd dry', 're serious', 'read today', 'real head', 'really 45', 'really persistent', 'reason shake', 'reccomendation', 'receiving damaged', 'recipe demands', 'recomended for', 'recommended iams', 'recyclable tin', 'redoes this', 'refined because', 'refrigerated tropicana', 'region scotch', 'regular pillsbury', 'reigns supreme', 'release power', 'remaining crackers', 'reminisced', 'rep from', 'replacements won', 'request free', 'rescued year', 'reservoir when', 'responses on', 'restrictions due', 'retaurant', 'reveiw', 'reviewers however', 'rexie but', 'rice softer', 'ridder or', 'right sometime', 'ripoff go', 'roaches hope', 'roasters buck', 'rockstar though', 'romney that', 'rosa monte', 'rougher', 'rrreat 50', 'rumbled', 'rushed the', 'sad news', 'sagman mike', 'salad try', 'salmon itself', 'salt piled', 'salty sparkling', 'same owner', 'sampling fair', 'sapling down', 'satisfy delicious', 'sauce offers', 'saute these', 'savings until', 'say fruit', 'says jet', 'scared amazon', 'schnickschnack', 'scooping few', 'scratching both', 'seafood stumbled', 'seasheels', 'seasons perfectly', 'seconds plenty', 'see nut', 'seeems', 'seems perpetually', 'selection followed', 'seller that', 'send on', 'sensitive years', 'ser debido', 'serve spaghetti', 'serving pour', 'settings rare', 'several ziplocs', 'shakes wonderful', 'shaped reese', 'she baby', 'shedding your', 'shelves containers', 'ship gluten', 'shipping finallly', 'shook another', 'short step', 'should refridgerate', 'shows absolutely', 'siblings to', 'siezures', 'sill use', 'simple baked', 'simply shake', 'since smaller', 'sinthetic shots', 'site pumped', 'size brown', 'sized ziploc', 'skinless sardines', 'sleep happened', 'slighly smaller', 'slimmed', 'sluggish let', 'small package', 'smallish sandwich', 'smelley things', 'smokehouses this', 'smoothest whole', 'snack quenching', 'snappiness imho', 'snowballs they', 'so frenetic', 'so sprinkle', 'society uses', 'sodium ordered', 'softly with', 'solid raspberry', 'some breast', 'some insulation', 'some sleuthing', 'someone first', 'something want', 'somewhat pleasant', 'soo delicious', 'sorbitol sugar', 'sounds instant', 'sour level', 'soy cholesterol', 'spam do', 'special at', 'specific these', 'spending my', 'spices hold', 'spikes just', 'splenda stirred', 'spoonful dumped', 'sprays br', 'sprout approximately', 'squeaker lasts', 'stabilized amazon', 'stale pre', 'standards ve', 'starbucks every', 'stars winona', 'starting stuff', 'states organic', 'steak hash', 'steeping almost', 'stevia that', 'sticky awful', 'still limiting', 'stinks its', 'stocks are', 'stop biting', 'store five', 'stores regular', 'strainer glean', 'strawberry smoothies', 'strictly follow', 'strong imho', 'stubbornly kept', 'stuff reconstitutes', 'style downright', 'subscribe safe', 'substitute which', 'succulent melt', 'sucralose but', 'sugar chilipepper', 'sugared popcorn', 'suggestion in', 'summer refreshment', 'super centers', 'supermarket caveat', 'suppleness', 'supposedly top', 'surgeries and', 'survived several', 'sway of', 'sweet other', 'sweetener without', 'sweetness why', 'swollen mess', 'syrup solids', 'table similar', 'taffy order', 'take screen', 'talk hour', 'tangy pepper', 'tart mixture', 'taste desire', 'taste versatile', 'taster stated', 'tasting dressing', 'tasty happy', 'tb out', 'tea hours', 'teabags go', 'teas yogi', 'teeth actually', 'temperature enjoy', 'tengo', 'terribly happy', 'testing or', 'textured very', 'than dealing', 'than potato', 'thanks duke', 'that canada', 'that forest', 'that needs', 'that slows', 'thats the', 'the asorbic', 'the caking', 'the coolness', 'the eastern', 'the funfetti', 'the hunt', 'the limit', 'the nalgene', 'the phytonutrients', 'the republic', 'the snackwell', 'the tetly', 'the web', 'their changes', 'their mom', 'theirs don', 'them may', 'themselves charging', 'then mysteriously', 'there assume', 'therefore keep', 'these desserts', 'these ounce', 'these within', 'they plant', 'thick swill', 'thing allergy', 'things tasted', 'thinking hmn', 'this affords', 'this dramatic', 'this manager', 'this serves', 'tho suggest', 'those orangina', 'though shrug', 'three components', 'throat your', 'throw these', 'ticos', 'time advantages', 'time span', 'tin boxes', 'tiny tummies', 'to 000', 'to carrying', 'to estrogen', 'to jay', 'to pantene', 'to server', 'to viewed', 'today buy', 'together gave', 'tomatoe paste', 'too 46', 'too too', 'top be', 'torani experience', 'totaled minutes', 'tough however', 'toxicology verified', 'trading during', 'training dog', 'trap say', 'trays where', 'treats appreciate', 'tremendously as', 'tried decafe', 'tries its', 'tropical dried', 'true strong', 'trust began', 'try molino', 'tsp just', 'tummy used', 'turmmeric', 'twenty dollars', 'two 70', 'two seems', 'types really', 'udon made', 'un donut', 'uncleaned br', 'underlying chocolate', 'unexciting', 'unhealthy bar', 'units do', 'unnecessarily vague', 'unrustles the', 'until jasmine', 'up bloody', 'up regularly', 'uploading picture', 'urine gasoline', 'usa our', 'use instant', 'used almonds', 'used zevia', 'using dough', 'usual be', 'usually pleased', 'vacuum pack', 'valve system', 'varied making', 'various tea', 'veg soup', 'vegetables two', 'velveeta brand', 'verifying the', 'versus stars', 'very politely', 'vets know', 'vigo rice', 'violet creeping', 'visually inspect', 'vm service', 'voted on', 'waffles or', 'walking 11', 'want big', 'wanting 300', 'warmth am', 'was charded', 'was heard', 'was psyched', 'was usually', 'wasn mrs', 'watchers one', 'water purchased', 'wateryness is', 'way ugh', 'we slip', 'weave that', 'week little', 'weighs 17', 'welcome similar', 'well thought', 'were cramped', 'were resolved', 'westbend', 'what fuddrucker', 'whatever level', 'whelped in', 'when put', 'where often', 'which encourages', 'while chug', 'whip probably', 'white who', 'whoa just', 'wholesome yes', 'wide increase', 'wilderness puppy', 'will suffer', 'wine then', 'wires that', 'with arabic', 'with deposits', 'with important', 'with parsley', 'with spagetti', 'withdrawn 29', 'without sauce', 'won eat', 'wonderful powder', 'woodsy', 'work moving', 'workouts this', 'worry could', 'worthwhile the', 'would won', 'wrapped returned', 'wrong chips', 'xtreme without', 'yeah just', 'years studying', 'yes different', 'yield suits', 'york to', 'you grown', 'you suffer', 'your chest', 'your pearly', 'yourself saying', 'yummily', 'zealand every', 'zip my']\n"
     ]
    }
   ],
   "source": [
    "print(count_vect_1.get_feature_names()[::2000])"
   ]
  },
  {
   "cell_type": "code",
   "execution_count": 62,
   "metadata": {},
   "outputs": [
    {
     "data": {
      "text/plain": [
       "<454728x2741566 sparse matrix of type '<class 'numpy.int64'>'\n",
       "\twith 57324305 stored elements in Compressed Sparse Row format>"
      ]
     },
     "execution_count": 62,
     "metadata": {},
     "output_type": "execute_result"
    }
   ],
   "source": [
    "X_train_vectorized_1 = count_vect_1.transform(X_train)\n",
    "X_train_vectorized_1"
   ]
  },
  {
   "cell_type": "code",
   "execution_count": 63,
   "metadata": {},
   "outputs": [
    {
     "name": "stderr",
     "output_type": "stream",
     "text": [
      "c:\\users\\tapas\\appdata\\local\\programs\\python\\python37\\lib\\site-packages\\sklearn\\linear_model\\_logistic.py:940: ConvergenceWarning: lbfgs failed to converge (status=1):\n",
      "STOP: TOTAL NO. of ITERATIONS REACHED LIMIT.\n",
      "\n",
      "Increase the number of iterations (max_iter) or scale the data as shown in:\n",
      "    https://scikit-learn.org/stable/modules/preprocessing.html\n",
      "Please also refer to the documentation for alternative solver options:\n",
      "    https://scikit-learn.org/stable/modules/linear_model.html#logistic-regression\n",
      "  extra_warning_msg=_LOGISTIC_SOLVER_CONVERGENCE_MSG)\n"
     ]
    },
    {
     "data": {
      "text/plain": [
       "LogisticRegression(C=1.0, class_weight=None, dual=False, fit_intercept=True,\n",
       "                   intercept_scaling=1, l1_ratio=None, max_iter=100,\n",
       "                   multi_class='auto', n_jobs=None, penalty='l2',\n",
       "                   random_state=None, solver='lbfgs', tol=0.0001, verbose=0,\n",
       "                   warm_start=False)"
      ]
     },
     "execution_count": 63,
     "metadata": {},
     "output_type": "execute_result"
    }
   ],
   "source": [
    "from sklearn.linear_model import LogisticRegression\n",
    "model_1 = LogisticRegression()\n",
    "model_1.fit(X_train_vectorized_1, Y_train)"
   ]
  },
  {
   "cell_type": "code",
   "execution_count": 64,
   "metadata": {},
   "outputs": [
    {
     "name": "stdout",
     "output_type": "stream",
     "text": [
      "AUC:  0.8991346890822678\n"
     ]
    }
   ],
   "source": [
    "from sklearn.metrics import roc_auc_score\n",
    "predictions = model_1.predict(count_vect_1.transform(X_test))\n",
    "print('AUC: ', roc_auc_score(Y_test, predictions))"
   ]
  },
  {
   "cell_type": "markdown",
   "metadata": {},
   "source": [
    "# TFIDF"
   ]
  },
  {
   "cell_type": "code",
   "execution_count": 71,
   "metadata": {},
   "outputs": [],
   "source": [
    "tf_idf_vect = TfidfVectorizer()\n",
    "final_tf_idf=tf_idf_vect.fit_transform(X_train)"
   ]
  },
  {
   "cell_type": "code",
   "execution_count": 72,
   "metadata": {},
   "outputs": [
    {
     "data": {
      "text/plain": [
       "(454728, 109196)"
      ]
     },
     "execution_count": 72,
     "metadata": {},
     "output_type": "execute_result"
    }
   ],
   "source": [
    "final_tf_idf.shape"
   ]
  },
  {
   "cell_type": "code",
   "execution_count": 73,
   "metadata": {},
   "outputs": [
    {
     "data": {
      "text/plain": [
       "<454728x109196 sparse matrix of type '<class 'numpy.float64'>'\n",
       "\twith 24521521 stored elements in Compressed Sparse Row format>"
      ]
     },
     "execution_count": 73,
     "metadata": {},
     "output_type": "execute_result"
    }
   ],
   "source": [
    "X_train_vectorized_2 = tf_idf_vect.transform(X_train)\n",
    "X_train_vectorized_2"
   ]
  },
  {
   "cell_type": "code",
   "execution_count": 74,
   "metadata": {},
   "outputs": [
    {
     "name": "stderr",
     "output_type": "stream",
     "text": [
      "c:\\users\\tapas\\appdata\\local\\programs\\python\\python37\\lib\\site-packages\\sklearn\\linear_model\\_logistic.py:940: ConvergenceWarning: lbfgs failed to converge (status=1):\n",
      "STOP: TOTAL NO. of ITERATIONS REACHED LIMIT.\n",
      "\n",
      "Increase the number of iterations (max_iter) or scale the data as shown in:\n",
      "    https://scikit-learn.org/stable/modules/preprocessing.html\n",
      "Please also refer to the documentation for alternative solver options:\n",
      "    https://scikit-learn.org/stable/modules/linear_model.html#logistic-regression\n",
      "  extra_warning_msg=_LOGISTIC_SOLVER_CONVERGENCE_MSG)\n"
     ]
    },
    {
     "data": {
      "text/plain": [
       "LogisticRegression(C=1.0, class_weight=None, dual=False, fit_intercept=True,\n",
       "                   intercept_scaling=1, l1_ratio=None, max_iter=100,\n",
       "                   multi_class='auto', n_jobs=None, penalty='l2',\n",
       "                   random_state=None, solver='lbfgs', tol=0.0001, verbose=0,\n",
       "                   warm_start=False)"
      ]
     },
     "execution_count": 74,
     "metadata": {},
     "output_type": "execute_result"
    }
   ],
   "source": [
    "from sklearn.linear_model import LogisticRegression\n",
    "model_2 = LogisticRegression()\n",
    "model_2.fit(X_train_vectorized_2, Y_train)"
   ]
  },
  {
   "cell_type": "code",
   "execution_count": 75,
   "metadata": {},
   "outputs": [
    {
     "name": "stdout",
     "output_type": "stream",
     "text": [
      "AUC:  0.8338351323376996\n"
     ]
    }
   ],
   "source": [
    "from sklearn.metrics import roc_auc_score\n",
    "predictions = model_2.predict(tf_idf_vect.transform(X_test))\n",
    "print('AUC: ', roc_auc_score(Y_test, predictions))"
   ]
  },
  {
   "cell_type": "code",
   "execution_count": 82,
   "metadata": {},
   "outputs": [],
   "source": [
    "features = tf_idf_vect.get_feature_names()"
   ]
  },
  {
   "cell_type": "code",
   "execution_count": 83,
   "metadata": {},
   "outputs": [],
   "source": [
    "def top_tfidf_feats(row,features,top_n=25):\n",
    "    topn_ids=np.argsort(row)[::-1][:top_n]\n",
    "    top_feats=[(features[i],row[i]) for i in topn_ids]\n",
    "    df=pd.DataFrame(top_feats)\n",
    "    df.columns=['feature','tfidf']\n",
    "    return df\n",
    "\n",
    "\n",
    "top_tfidf = top_tfidf_feats(final_tf_idf[1,:].toarray()[0],features,25)"
   ]
  },
  {
   "cell_type": "code",
   "execution_count": 84,
   "metadata": {},
   "outputs": [
    {
     "data": {
      "text/html": [
       "<div>\n",
       "<style scoped>\n",
       "    .dataframe tbody tr th:only-of-type {\n",
       "        vertical-align: middle;\n",
       "    }\n",
       "\n",
       "    .dataframe tbody tr th {\n",
       "        vertical-align: top;\n",
       "    }\n",
       "\n",
       "    .dataframe thead th {\n",
       "        text-align: right;\n",
       "    }\n",
       "</style>\n",
       "<table border=\"1\" class=\"dataframe\">\n",
       "  <thead>\n",
       "    <tr style=\"text-align: right;\">\n",
       "      <th></th>\n",
       "      <th>feature</th>\n",
       "      <th>tfidf</th>\n",
       "    </tr>\n",
       "  </thead>\n",
       "  <tbody>\n",
       "    <tr>\n",
       "      <th>0</th>\n",
       "      <td>cubes</td>\n",
       "      <td>0.346235</td>\n",
       "    </tr>\n",
       "    <tr>\n",
       "      <th>1</th>\n",
       "      <td>decaf</td>\n",
       "      <td>0.337188</td>\n",
       "    </tr>\n",
       "    <tr>\n",
       "      <th>2</th>\n",
       "      <td>ice</td>\n",
       "      <td>0.314804</td>\n",
       "    </tr>\n",
       "    <tr>\n",
       "      <th>3</th>\n",
       "      <td>reusable</td>\n",
       "      <td>0.287687</td>\n",
       "    </tr>\n",
       "    <tr>\n",
       "      <th>4</th>\n",
       "      <td>it</td>\n",
       "      <td>0.120850</td>\n",
       "    </tr>\n",
       "    <tr>\n",
       "      <th>5</th>\n",
       "      <td>sometimes</td>\n",
       "      <td>0.120455</td>\n",
       "    </tr>\n",
       "    <tr>\n",
       "      <th>6</th>\n",
       "      <td>href</td>\n",
       "      <td>0.119667</td>\n",
       "    </tr>\n",
       "    <tr>\n",
       "      <th>7</th>\n",
       "      <td>gp</td>\n",
       "      <td>0.119349</td>\n",
       "    </tr>\n",
       "    <tr>\n",
       "      <th>8</th>\n",
       "      <td>http</td>\n",
       "      <td>0.118841</td>\n",
       "    </tr>\n",
       "    <tr>\n",
       "      <th>9</th>\n",
       "      <td>www</td>\n",
       "      <td>0.118631</td>\n",
       "    </tr>\n",
       "    <tr>\n",
       "      <th>10</th>\n",
       "      <td>madhava</td>\n",
       "      <td>0.118445</td>\n",
       "    </tr>\n",
       "    <tr>\n",
       "      <th>11</th>\n",
       "      <td>the</td>\n",
       "      <td>0.115277</td>\n",
       "    </tr>\n",
       "    <tr>\n",
       "      <th>12</th>\n",
       "      <td>but</td>\n",
       "      <td>0.111786</td>\n",
       "    </tr>\n",
       "    <tr>\n",
       "      <th>13</th>\n",
       "      <td>tm</td>\n",
       "      <td>0.111332</td>\n",
       "    </tr>\n",
       "    <tr>\n",
       "      <th>14</th>\n",
       "      <td>com</td>\n",
       "      <td>0.108533</td>\n",
       "    </tr>\n",
       "    <tr>\n",
       "      <th>15</th>\n",
       "      <td>strike</td>\n",
       "      <td>0.107535</td>\n",
       "    </tr>\n",
       "    <tr>\n",
       "      <th>16</th>\n",
       "      <td>jazzed</td>\n",
       "      <td>0.106369</td>\n",
       "    </tr>\n",
       "    <tr>\n",
       "      <th>17</th>\n",
       "      <td>pathetic</td>\n",
       "      <td>0.106308</td>\n",
       "    </tr>\n",
       "    <tr>\n",
       "      <th>18</th>\n",
       "      <td>freaks</td>\n",
       "      <td>0.104699</td>\n",
       "    </tr>\n",
       "    <tr>\n",
       "      <th>19</th>\n",
       "      <td>me</td>\n",
       "      <td>0.100369</td>\n",
       "    </tr>\n",
       "    <tr>\n",
       "      <th>20</th>\n",
       "      <td>sensitivity</td>\n",
       "      <td>0.099802</td>\n",
       "    </tr>\n",
       "    <tr>\n",
       "      <th>21</th>\n",
       "      <td>ol</td>\n",
       "      <td>0.099518</td>\n",
       "    </tr>\n",
       "    <tr>\n",
       "      <th>22</th>\n",
       "      <td>safer</td>\n",
       "      <td>0.099103</td>\n",
       "    </tr>\n",
       "    <tr>\n",
       "      <th>23</th>\n",
       "      <td>here</td>\n",
       "      <td>0.096804</td>\n",
       "    </tr>\n",
       "    <tr>\n",
       "      <th>24</th>\n",
       "      <td>sweetening</td>\n",
       "      <td>0.095948</td>\n",
       "    </tr>\n",
       "  </tbody>\n",
       "</table>\n",
       "</div>"
      ],
      "text/plain": [
       "        feature     tfidf\n",
       "0         cubes  0.346235\n",
       "1         decaf  0.337188\n",
       "2           ice  0.314804\n",
       "3      reusable  0.287687\n",
       "4            it  0.120850\n",
       "5     sometimes  0.120455\n",
       "6          href  0.119667\n",
       "7            gp  0.119349\n",
       "8          http  0.118841\n",
       "9           www  0.118631\n",
       "10      madhava  0.118445\n",
       "11          the  0.115277\n",
       "12          but  0.111786\n",
       "13           tm  0.111332\n",
       "14          com  0.108533\n",
       "15       strike  0.107535\n",
       "16       jazzed  0.106369\n",
       "17     pathetic  0.106308\n",
       "18       freaks  0.104699\n",
       "19           me  0.100369\n",
       "20  sensitivity  0.099802\n",
       "21           ol  0.099518\n",
       "22        safer  0.099103\n",
       "23         here  0.096804\n",
       "24   sweetening  0.095948"
      ]
     },
     "execution_count": 84,
     "metadata": {},
     "output_type": "execute_result"
    }
   ],
   "source": [
    "top_tfidf"
   ]
  },
  {
   "cell_type": "markdown",
   "metadata": {},
   "source": [
    "# TFIDF WITH BIGRAM"
   ]
  },
  {
   "cell_type": "code",
   "execution_count": 98,
   "metadata": {},
   "outputs": [],
   "source": [
    "tf_idf_vect_1 = TfidfVectorizer(ngram_range=(1,2))\n",
    "final_tf_idf_1=tf_idf_vect_1.fit_transform(X_train)"
   ]
  },
  {
   "cell_type": "code",
   "execution_count": 99,
   "metadata": {},
   "outputs": [
    {
     "data": {
      "text/plain": [
       "(454728, 2741566)"
      ]
     },
     "execution_count": 99,
     "metadata": {},
     "output_type": "execute_result"
    }
   ],
   "source": [
    "final_tf_idf_1.shape"
   ]
  },
  {
   "cell_type": "code",
   "execution_count": 100,
   "metadata": {},
   "outputs": [
    {
     "data": {
      "text/plain": [
       "<454728x2741566 sparse matrix of type '<class 'numpy.float64'>'\n",
       "\twith 57324305 stored elements in Compressed Sparse Row format>"
      ]
     },
     "execution_count": 100,
     "metadata": {},
     "output_type": "execute_result"
    }
   ],
   "source": [
    "X_train_vectorized_3 = tf_idf_vect_1.transform(X_train)\n",
    "X_train_vectorized_3"
   ]
  },
  {
   "cell_type": "code",
   "execution_count": 101,
   "metadata": {},
   "outputs": [
    {
     "name": "stderr",
     "output_type": "stream",
     "text": [
      "c:\\users\\tapas\\appdata\\local\\programs\\python\\python37\\lib\\site-packages\\sklearn\\linear_model\\_logistic.py:940: ConvergenceWarning: lbfgs failed to converge (status=1):\n",
      "STOP: TOTAL NO. of ITERATIONS REACHED LIMIT.\n",
      "\n",
      "Increase the number of iterations (max_iter) or scale the data as shown in:\n",
      "    https://scikit-learn.org/stable/modules/preprocessing.html\n",
      "Please also refer to the documentation for alternative solver options:\n",
      "    https://scikit-learn.org/stable/modules/linear_model.html#logistic-regression\n",
      "  extra_warning_msg=_LOGISTIC_SOLVER_CONVERGENCE_MSG)\n"
     ]
    },
    {
     "data": {
      "text/plain": [
       "LogisticRegression(C=1.0, class_weight=None, dual=False, fit_intercept=True,\n",
       "                   intercept_scaling=1, l1_ratio=None, max_iter=100,\n",
       "                   multi_class='auto', n_jobs=None, penalty='l2',\n",
       "                   random_state=None, solver='lbfgs', tol=0.0001, verbose=0,\n",
       "                   warm_start=False)"
      ]
     },
     "execution_count": 101,
     "metadata": {},
     "output_type": "execute_result"
    }
   ],
   "source": [
    "from sklearn.linear_model import LogisticRegression\n",
    "model_3 = LogisticRegression()\n",
    "model_3.fit(X_train_vectorized_3, Y_train)"
   ]
  },
  {
   "cell_type": "code",
   "execution_count": 102,
   "metadata": {},
   "outputs": [
    {
     "name": "stdout",
     "output_type": "stream",
     "text": [
      "AUC:  0.8798682853927906\n"
     ]
    }
   ],
   "source": [
    "from sklearn.metrics import roc_auc_score\n",
    "predictions = model_3.predict(tf_idf_vect_1.transform(X_test))\n",
    "print('AUC: ', roc_auc_score(Y_test, predictions))"
   ]
  },
  {
   "cell_type": "code",
   "execution_count": 103,
   "metadata": {},
   "outputs": [],
   "source": [
    "features_1 = tf_idf_vect_1.get_feature_names()"
   ]
  },
  {
   "cell_type": "code",
   "execution_count": 104,
   "metadata": {},
   "outputs": [
    {
     "data": {
      "text/html": [
       "<div>\n",
       "<style scoped>\n",
       "    .dataframe tbody tr th:only-of-type {\n",
       "        vertical-align: middle;\n",
       "    }\n",
       "\n",
       "    .dataframe tbody tr th {\n",
       "        vertical-align: top;\n",
       "    }\n",
       "\n",
       "    .dataframe thead th {\n",
       "        text-align: right;\n",
       "    }\n",
       "</style>\n",
       "<table border=\"1\" class=\"dataframe\">\n",
       "  <thead>\n",
       "    <tr style=\"text-align: right;\">\n",
       "      <th></th>\n",
       "      <th>feature</th>\n",
       "      <th>tfidf</th>\n",
       "    </tr>\n",
       "  </thead>\n",
       "  <tbody>\n",
       "    <tr>\n",
       "      <th>0</th>\n",
       "      <td>reusable ice</td>\n",
       "      <td>0.232150</td>\n",
       "    </tr>\n",
       "    <tr>\n",
       "      <th>1</th>\n",
       "      <td>ice cubes</td>\n",
       "      <td>0.211132</td>\n",
       "    </tr>\n",
       "    <tr>\n",
       "      <th>2</th>\n",
       "      <td>cubes</td>\n",
       "      <td>0.184344</td>\n",
       "    </tr>\n",
       "    <tr>\n",
       "      <th>3</th>\n",
       "      <td>decaf</td>\n",
       "      <td>0.179527</td>\n",
       "    </tr>\n",
       "    <tr>\n",
       "      <th>4</th>\n",
       "      <td>ice</td>\n",
       "      <td>0.167609</td>\n",
       "    </tr>\n",
       "    <tr>\n",
       "      <th>5</th>\n",
       "      <td>reusable</td>\n",
       "      <td>0.153172</td>\n",
       "    </tr>\n",
       "    <tr>\n",
       "      <th>6</th>\n",
       "      <td>ice tm</td>\n",
       "      <td>0.081873</td>\n",
       "    </tr>\n",
       "    <tr>\n",
       "      <th>7</th>\n",
       "      <td>tm reusable</td>\n",
       "      <td>0.081873</td>\n",
       "    </tr>\n",
       "    <tr>\n",
       "      <th>8</th>\n",
       "      <td>product b001c54dvo</td>\n",
       "      <td>0.081873</td>\n",
       "    </tr>\n",
       "    <tr>\n",
       "      <th>9</th>\n",
       "      <td>b000uvk9ci madhava</td>\n",
       "      <td>0.081873</td>\n",
       "    </tr>\n",
       "    <tr>\n",
       "      <th>10</th>\n",
       "      <td>way reusable</td>\n",
       "      <td>0.081873</td>\n",
       "    </tr>\n",
       "    <tr>\n",
       "      <th>11</th>\n",
       "      <td>product b000uvk9ci</td>\n",
       "      <td>0.081873</td>\n",
       "    </tr>\n",
       "    <tr>\n",
       "      <th>12</th>\n",
       "      <td>for pathetic</td>\n",
       "      <td>0.081873</td>\n",
       "    </tr>\n",
       "    <tr>\n",
       "      <th>13</th>\n",
       "      <td>b001c54dvo</td>\n",
       "      <td>0.081873</td>\n",
       "    </tr>\n",
       "    <tr>\n",
       "      <th>14</th>\n",
       "      <td>pathetic ol</td>\n",
       "      <td>0.081873</td>\n",
       "    </tr>\n",
       "    <tr>\n",
       "      <th>15</th>\n",
       "      <td>b001c54dvo white</td>\n",
       "      <td>0.081873</td>\n",
       "    </tr>\n",
       "    <tr>\n",
       "      <th>16</th>\n",
       "      <td>b000uvk9ci</td>\n",
       "      <td>0.081873</td>\n",
       "    </tr>\n",
       "    <tr>\n",
       "      <th>17</th>\n",
       "      <td>ol me</td>\n",
       "      <td>0.080427</td>\n",
       "    </tr>\n",
       "    <tr>\n",
       "      <th>18</th>\n",
       "      <td>those freaks</td>\n",
       "      <td>0.080427</td>\n",
       "    </tr>\n",
       "    <tr>\n",
       "      <th>19</th>\n",
       "      <td>difficult balance</td>\n",
       "      <td>0.080427</td>\n",
       "    </tr>\n",
       "    <tr>\n",
       "      <th>20</th>\n",
       "      <td>nectar vanilla</td>\n",
       "      <td>0.080427</td>\n",
       "    </tr>\n",
       "    <tr>\n",
       "      <th>21</th>\n",
       "      <td>flavor 11</td>\n",
       "      <td>0.079247</td>\n",
       "    </tr>\n",
       "    <tr>\n",
       "      <th>22</th>\n",
       "      <td>strike but</td>\n",
       "      <td>0.079247</td>\n",
       "    </tr>\n",
       "    <tr>\n",
       "      <th>23</th>\n",
       "      <td>acidic think</td>\n",
       "      <td>0.079247</td>\n",
       "    </tr>\n",
       "    <tr>\n",
       "      <th>24</th>\n",
       "      <td>year enjoy</td>\n",
       "      <td>0.079247</td>\n",
       "    </tr>\n",
       "  </tbody>\n",
       "</table>\n",
       "</div>"
      ],
      "text/plain": [
       "               feature     tfidf\n",
       "0         reusable ice  0.232150\n",
       "1            ice cubes  0.211132\n",
       "2                cubes  0.184344\n",
       "3                decaf  0.179527\n",
       "4                  ice  0.167609\n",
       "5             reusable  0.153172\n",
       "6               ice tm  0.081873\n",
       "7          tm reusable  0.081873\n",
       "8   product b001c54dvo  0.081873\n",
       "9   b000uvk9ci madhava  0.081873\n",
       "10        way reusable  0.081873\n",
       "11  product b000uvk9ci  0.081873\n",
       "12        for pathetic  0.081873\n",
       "13          b001c54dvo  0.081873\n",
       "14         pathetic ol  0.081873\n",
       "15    b001c54dvo white  0.081873\n",
       "16          b000uvk9ci  0.081873\n",
       "17               ol me  0.080427\n",
       "18        those freaks  0.080427\n",
       "19   difficult balance  0.080427\n",
       "20      nectar vanilla  0.080427\n",
       "21           flavor 11  0.079247\n",
       "22          strike but  0.079247\n",
       "23        acidic think  0.079247\n",
       "24          year enjoy  0.079247"
      ]
     },
     "execution_count": 104,
     "metadata": {},
     "output_type": "execute_result"
    }
   ],
   "source": [
    "top_tfidf_1 = top_tfidf_feats(final_tf_idf_1[1,:].toarray()[0],features_1,25)\n",
    "top_tfidf_1"
   ]
  },
  {
   "cell_type": "code",
   "execution_count": null,
   "metadata": {},
   "outputs": [],
   "source": []
  }
 ],
 "metadata": {
  "kernelspec": {
   "display_name": "Python 3",
   "language": "python",
   "name": "python3"
  },
  "language_info": {
   "codemirror_mode": {
    "name": "ipython",
    "version": 3
   },
   "file_extension": ".py",
   "mimetype": "text/x-python",
   "name": "python",
   "nbconvert_exporter": "python",
   "pygments_lexer": "ipython3",
   "version": "3.9.5"
  }
 },
 "nbformat": 4,
 "nbformat_minor": 2
}
